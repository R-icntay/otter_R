{
    "cells": [
        {
            "cell_type": "markdown",
            "metadata": {},
            "source": [
                "## **What's in this tutorial?**\n",
                "\n",
                "In this short tutorial, we'll get to learn and practice some basic functions to help you work easily and intuitively with data. You'll learn how to:\n",
                "\n",
                "-   Load packages in R\n",
                "\n",
                "-   Sanity check on our data \n",
                "\n",
                "-   Query whether there are missing values \n",
                "\n",
                "-   Subset unique rows\n",
                "\n",
                "-   Keep rows that satisfy your conditions\n",
                "\n",
                "<p >\n",
                "<img src = \"../../images/r_learners_sm.jpeg\", width= 500>\n",
                "\n",
                "\n",
                "\n",
                "Let's get started!\n",
                "\n",
                "## 1. **Meet the Tidyverse and data**\n",
                "\n",
                "Before we can get started doing some Data Science, we typically begin by loading packages into our current R environment and importing data.\n"
            ]
        },
        {
            "cell_type": "code",
            "execution_count": null,
            "metadata": {},
            "outputs": [],
            "source": [
                "# Load the Tidyverse\n",
                "library(tidyverse)\n",
                "library(here)\n"
            ]
        },
        {
            "cell_type": "markdown",
            "metadata": {},
            "source": [
                "That's one step down!\n",
                "\n"
            ]
        },
        {
            "cell_type": "code",
            "execution_count": null,
            "metadata": {},
            "outputs": [],
            "source": [
                "# Load the library containing the data set\n",
                "penguins <- read_csv(\"penguins.csv\")\n",
                "\n",
                "# Print the first few rows of the data\n",
                "head(penguins)\n"
            ]
        },
        {
            "cell_type": "markdown",
            "metadata": {},
            "source": [
                "Sometimes, when we have a lot of columns in our data, it may difficult to get a grip of the data at first sight using `slice_head`\n",
                "\n",
                "`glimpse` produces a transposed version where columns run down the page, and data runs across. This makes it possible to see every column in a data frame. Into the bargain, it also shows the dimension of the data frame.\n"
            ]
        },
        {
            "cell_type": "code",
            "execution_count": null,
            "metadata": {},
            "outputs": [],
            "source": [
                "penguins %>% \n",
                "  glimpse()\n"
            ]
        },
        {
            "cell_type": "markdown",
            "metadata": {},
            "source": [
                "Before beginning your analysis, it's always a good idea to check whether you have any missing values.\n",
                "\n"
            ]
        },
        {
            "cell_type": "code",
            "execution_count": null,
            "metadata": {},
            "outputs": [],
            "source": [
                "# Do we have any missing values?\n",
                "penguins %>% \n",
                "  anyNA()\n"
            ]
        },
        {
            "cell_type": "markdown",
            "metadata": {},
            "source": [
                "No missing values! Excellent!\n",
                "\n"
            ]
        },
        {
            "cell_type": "code",
            "execution_count": null,
            "metadata": {},
            "outputs": [],
            "source": [
                "penguins %>% \n",
                "  head()\n"
            ]
        },
        {
            "cell_type": "markdown",
            "metadata": {},
            "source": [
                "We only see penguins of species `Adelie`. Are there any other species of penguins? To answer this, we use a function/verb in dplyr called `distinct()`. `distinct()` only returns the unique rows in our data:\n",
                "\n"
            ]
        },
        {
            "cell_type": "code",
            "execution_count": null,
            "metadata": {},
            "outputs": [],
            "source": [
                "# What are the different species of penguins in our data?\n",
                "penguins %>% \n",
                "  distinct(species)\n"
            ]
        },
        {
            "cell_type": "markdown",
            "metadata": {},
            "source": [
                "Say we wanted to find the islands where our penguins reside in. We would just modify the above code to include `island` instead of species: \n",
                "\n"
            ]
        },
        {
            "cell_type": "code",
            "execution_count": null,
            "metadata": {},
            "outputs": [],
            "source": [
                "# What are the different islands in our data?\n",
                "penguins %>% \n",
                "  distinct(island)\n"
            ]
        },
        {
            "cell_type": "markdown",
            "metadata": {},
            "source": [
                "Aha, 3 islands. Now let's go forth and filter!\n",
                "\n",
                "\n",
                "Now let's go forth and filter!\n",
                "\n",
                "## 2. filter: keep rows that satisfy your conditions\n",
                "\n",
                "![](images/dplyr_filter_sm.png){width=\"500\"}\n",
                "\n",
                "### **Example 1**\n",
                "\n",
                "Make a subset with only chinstrap penguins.\n",
                "\n",
                "In the code below, we **filter** the **penguins** data to only keep rows where the entry for **species** exactly matches \"Adelie\" (case sensitive).\n"
            ]
        },
        {
            "cell_type": "code",
            "execution_count": null,
            "metadata": {},
            "outputs": [],
            "source": [
                "penguins %>% \n",
                "  filter(species == \"Adelie\")\n"
            ]
        },
        {
            "cell_type": "markdown",
            "metadata": {},
            "source": [
                "Easy, right? We may want to save this to a variable name \"adelie_penguins\". This is how we would go about it.\n",
                "\n"
            ]
        },
        {
            "cell_type": "code",
            "execution_count": null,
            "metadata": {},
            "outputs": [],
            "source": [
                "# Subset data to only obtain Adelie penguins\n",
                "adelie_penguins <- penguins %>% \n",
                "  filter(species == \"Adelie\")\n",
                "\n",
                "# Print the first few rows of data\n",
                "adelie_penguins %>% \n",
                "  head()\n"
            ]
        },
        {
            "cell_type": "markdown",
            "metadata": {},
            "source": [
                "Good job!! Give it a try too.\n",
                "\n",
                "**Question 1: filter** the **penguins** data to only keep rows where the entry for **species** exactly matches \"Chinstrap\". Save this in a variable name `chinstrap_penguins`\n"
            ]
        },
        {
            "cell_type": "code",
            "execution_count": null,
            "metadata": {},
            "outputs": [],
            "source": [
                "BEGIN QUESTION\n",
                "name: Question 1\n",
                "manual: false\n",
                "    \n"
            ]
        },
        {
            "cell_type": "markdown",
            "metadata": {},
            "source": "\n"
        },
        {
            "cell_type": "code",
            "execution_count": null,
            "metadata": {},
            "outputs": [],
            "source": [
                "chinstrap_penguins <- penguins %>% \n",
                "  filter(species == \"Chinstrap\")\n",
                "\n",
                "chinstrap_penguins %>% \n",
                "  head()\n"
            ]
        },
        {
            "cell_type": "markdown",
            "metadata": {},
            "source": [
                "\n",
                "\n"
            ]
        },
        {
            "cell_type": "code",
            "execution_count": null,
            "metadata": {},
            "outputs": [],
            "source": [
                ". = \" # BEGIN TEST CONFIG\n",
                "\n",
                "success_message: Excellent. You have successfully filtered the data set to only include observations where the species is Chinstrap!\n",
                "\n",
                "failure_message: Oops! Let's give it another try. Ensure you have filtered the penguins data to only keep rows where the entry for **species** exactly matches **Chinstrap**.\n",
                "\" # END TEST CONFIG\n",
                "\n",
                "suppressPackageStartupMessages({\n",
                "  library(testthat)\n",
                "})\n",
                "\n",
                "\n",
                "## Test ##\n",
                "test_that('the subset only has Chinstrap penguins', {\n",
                "  expect_output(print(unique(chinstrap_penguins$species)), \"[1] Chinstrap\", fixed = TRUE)\n",
                "  \n",
                "})\n",
                "  \n"
            ]
        },
        {
            "cell_type": "markdown",
            "metadata": {},
            "source": [
                "### **Example 2**\n",
                "\n",
                "That went well. What if now we wanted to keep rows where species matches \"Chinstrap\" **OR** \"Gentoo\"?\n",
                "\n",
                "We use the \"or\" operator, `|` (the vertical line) when we want to filter rows based on multiple observations in a specific column.\n"
            ]
        },
        {
            "cell_type": "code",
            "execution_count": null,
            "metadata": {},
            "outputs": [],
            "source": [
                "# Make a subset only containing Chinstrap and Gentoo penguins\n",
                "penguins %>% \n",
                "  filter(species == \"Chinstrap\" | species == \"Gentoo\")\n"
            ]
        },
        {
            "cell_type": "markdown",
            "metadata": {},
            "source": [
                "Now, let's take this a little bit further. What if we wanted to make subsets based on conditions that span different columns? Say we only want to keep observations (rows) where the species is \"Gentoo\" **AND** the island is \"Dream\" - a row should only be retained if both of those conditions are met.\n",
                "\n",
                "There are a number of ways you can write an **and** statement within `filter()`, including:\n",
                "\n",
                "-   A comma between conditions indicates both must be met (`filter(x == \"a\", y == \"b\")`)\n",
                "\n",
                "-   An ampersand between conditions indicates both must be met (`filter(x == \"a\" & y == \"b\")`)\n",
                "\n",
                "We can create a subset starting from penguins that only contains observations for Gentoo penguins on Dream Island as follows:\n"
            ]
        },
        {
            "cell_type": "code",
            "execution_count": null,
            "metadata": {},
            "outputs": [],
            "source": [
                "penguins %>%\n",
                "  filter(species == \"Gentoo\", island == \"Dream\") %>% \n",
                "  head()\n"
            ]
        },
        {
            "cell_type": "markdown",
            "metadata": {},
            "source": [
                "Give it a try yourself.\n",
                "\n",
                "**Question 2:** Create a subset from `penguins` containing observations for **female** **Adelie** penguins on **Dream** or **Torgersen** Islands.\n"
            ]
        },
        {
            "cell_type": "code",
            "execution_count": null,
            "metadata": {},
            "outputs": [],
            "source": [
                "    BEGIN QUESTION\n",
                "\n",
                "    name: Question 2\n",
                "\n",
                "    manual: false\n",
                "\n",
                "        \n"
            ]
        },
        {
            "cell_type": "markdown",
            "metadata": {},
            "source": "\n"
        },
        {
            "cell_type": "code",
            "execution_count": null,
            "metadata": {},
            "outputs": [],
            "source": [
                "penguins_subset <- penguins %>%\n",
                "  filter(sex == \"female\",\n",
                "         species == \"Adelie\") %>%\n",
                "  filter(island %in% c(\"Dream\",\"Torgersen\"))\n",
                "\n",
                "penguins_subset %>% \n",
                "  head()\n"
            ]
        },
        {
            "cell_type": "markdown",
            "metadata": {},
            "source": [
                "\n",
                "\n"
            ]
        },
        {
            "cell_type": "code",
            "execution_count": null,
            "metadata": {},
            "outputs": [],
            "source": [
                ". = \" # BEGIN TEST CONFIG\n",
                "\n",
                "success_message: Good job. You have successfully filtered the data set to only include observations where the species is Adelie!\n",
                "\n",
                "failure_message: Oops! Let's give it another try. Ensure you have filtered the penguins data to only keep rows where the entry for **species** exactly matches **Adelie**.\n",
                "\" # END TEST CONFIG\n",
                "\n",
                "test_that('the subset only has Adelie penguins', {\n",
                "  expect_output(print(unique(penguins_subset$species)), \"[1] Adelie\", fixed = TRUE)\n",
                "  \n",
                "})\n",
                "  \n"
            ]
        },
        {
            "cell_type": "markdown",
            "metadata": {},
            "source": "\n"
        },
        {
            "cell_type": "code",
            "execution_count": null,
            "metadata": {},
            "outputs": [],
            "source": [
                ". = \" # BEGIN TEST CONFIG\n",
                "success_message: You are doing great. The data only has female penguins!\n",
                "\n",
                "failure_message: Oops! Let's give it another try. Perhaps we included some male penguins?\n",
                "\" # END TEST CONFIG\n",
                "\n",
                "\n",
                "test_that('the subset only has female penguins', {\n",
                "  expect_output(print(unique(penguins_subset$sex)), \"[1] female\", fixed = TRUE)\n",
                "  \n",
                "})\n"
            ]
        },
        {
            "cell_type": "markdown",
            "metadata": {},
            "source": "\n"
        },
        {
            "cell_type": "code",
            "execution_count": null,
            "metadata": {},
            "outputs": [],
            "source": [
                ". = \" # BEGIN TEST CONFIG\n",
                "\n",
                "success_message: That's right. You have successfully kept penguins from Torgersen and Dream islands.\n",
                "\n",
                "failure_message: Almost there. Let's give it another try. Perhaps we included some Biscoe penguins?\n",
                "\" # END TEST CONFIG\n",
                "\n",
                "test_that('the subset only has penguins from Torgersen and Dream islands', {\n",
                "  expect_output(print(unique(penguins_subset$island)), \"[1] Torgersen Dream\", fixed = TRUE)\n",
                "  \n",
                "})\n"
            ]
        },
        {
            "cell_type": "markdown",
            "metadata": {},
            "source": [
                "## So now you know the basics, where next?\n",
                "\n",
                "Fantastic! You just did some data wrangling in R. You learnt how to:\n",
                "\n",
                "-   Load packages in R using `library()`\n",
                "\n",
                "-   Query whether there are missing values `anyNA()`\n",
                "\n",
                "-   Subset unique rows using `distinct()`\n",
                "\n",
                "-   Keep rows that satisfy your conditions using `filter()`\n",
                "\n",
                "The fun doesn't end here, the Tidyverse has a whole bunch of useful verbs for wrangling data:\n",
                "\n",
                "-   `select()`: keep or exclude some columns\n",
                "\n",
                "-   `rename()`: rename columns\n",
                "\n",
                "-   `relocate()`: move columns around\n",
                "\n",
                "-   `mutate()`: add a new column\n",
                "\n",
                "-   `group_by()` + `summarize()`: get summary statistics by group\n",
                "\n",
                "Here are some great places you can learn all about them:\n",
                "\n",
                "- [Build a regression model: prepare and visualize data](https://github.com/microsoft/ML-For-Beginners/blob/main/2-Regression/2-Data/solution/R/lesson_2-R.ipynb) Machine Learning for Beginners - A Curriculum by Microsoft Cloud Advocates.\n",
                "\n",
                "-   [dplyr.tidyverse.org](https://dplyr.tidyverse.org/)\n",
                "\n",
                "\n",
                "-   [R for Data Science](https://r4ds.had.co.nz/) by Hadley Wickham and Garrett Grolemund\n",
                "\n",
                "\n",
                "Happy learning!\n"
            ]
        },
        {
            "cell_type": "code",
            "execution_count": null,
            "metadata": {},
            "outputs": [],
            "source": [
                "library(here)\n",
                "library(rmd2jupyter)\n",
                "rmd2jupyter(\"dplyr.Rmd\")\n"
            ]
        }
    ],
    "metadata": {
        "anaconda-cloud": "",
        "kernelspec": {
            "display_name": "R",
            "langauge": "R",
            "name": "ir"
        },
        "language_info": {
            "codemirror_mode": "r",
            "file_extension": ".r",
            "mimetype": "text/x-r-source",
            "name": "R",
            "pygments_lexer": "r",
            "version": "3.4.1"
        }
    },
    "nbformat": 4,
    "nbformat_minor": 1
}
